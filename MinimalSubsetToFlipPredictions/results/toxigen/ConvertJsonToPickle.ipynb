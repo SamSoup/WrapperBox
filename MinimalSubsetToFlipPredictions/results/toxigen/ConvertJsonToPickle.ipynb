{
 "cells": [
  {
   "cell_type": "code",
   "execution_count": 2,
   "metadata": {},
   "outputs": [],
   "source": [
    "%load_ext autoreload\n",
    "%autoreload 2\n",
    "\n",
    "\n",
    "DATASET_NAME = \"toxigen\"\n",
    "LABEL_SPACE = [\"non-toxic\", \"toxic\", \"contradiction\"]\n",
    "MODEL_NAME = \"deberta_large\"\n",
    "SEED = 42\n",
    "POOLER = \"mean_with_attention\"\n",
    "LAYER = 24"
   ]
  },
  {
   "cell_type": "code",
   "execution_count": 2,
   "metadata": {},
   "outputs": [],
   "source": [
    "import json\n",
    "import pickle\n",
    "\n",
    "\n",
    "def json_to_pickle(json_file, pickle_file):\n",
    "    # Read the JSON file\n",
    "    with open(json_file, 'r') as f:\n",
    "        data = json.load(f)\n",
    "    \n",
    "    # Extract 'minimum_subset' lists\n",
    "    list_of_lists = [e['minimum_subset'] for e in data]\n",
    "    \n",
    "    # Save the list of lists as a pickle file\n",
    "    with open(pickle_file, 'wb') as f:\n",
    "        pickle.dump(list_of_lists, f)"
   ]
  },
  {
   "cell_type": "code",
   "execution_count": 6,
   "metadata": {},
   "outputs": [],
   "source": [
    "json_to_pickle(\n",
    "    json_file=\"toxigen_deberta_large_LMeans.json\",\n",
    "    pickle_file=\"toxigen_deberta_large_LMeans.pickle\"\n",
    ")"
   ]
  },
  {
   "cell_type": "code",
   "execution_count": 3,
   "metadata": {},
   "outputs": [],
   "source": [
    "json_to_pickle(\n",
    "    json_file=\"toxigen_deberta_large_LGBM.json\",\n",
    "    pickle_file=\"toxigen_deberta_large_LGBM.pickle\"\n",
    ")"
   ]
  },
  {
   "cell_type": "code",
   "execution_count": 4,
   "metadata": {},
   "outputs": [],
   "source": [
    "import pickle\n",
    "from utils.io import load_json\n",
    "\n",
    "name = \"KNN\"\n",
    "\n",
    "flip_list_fname = f\"{DATASET_NAME}_{MODEL_NAME}_{name}\"\n",
    "flip_list = load_json(f\"{flip_list_fname}.json\")\n",
    "\n",
    "true_flip_list = [ l['minimum_subset'] for l in flip_list]\n",
    "\n",
    "# go through the json and parse \n",
    "with open(f\"{flip_list_fname}.pickle\", 'wb') as handle:\n",
    "    pickle.dump(true_flip_list, handle)"
   ]
  },
  {
   "cell_type": "code",
   "execution_count": 6,
   "metadata": {},
   "outputs": [],
   "source": [
    "import pickle\n",
    "from utils.io import load_json\n",
    "\n",
    "name = \"SVM\"\n",
    "\n",
    "flip_list_fname = f\"{DATASET_NAME}_{MODEL_NAME}_{name}\"\n",
    "flip_list = load_json(f\"{flip_list_fname}.json\")\n",
    "\n",
    "true_flip_list = [ l['minimum_subset'] for l in flip_list]\n",
    "\n",
    "# go through the json and parse \n",
    "with open(f\"{flip_list_fname}.pickle\", 'wb') as handle:\n",
    "    pickle.dump(true_flip_list, handle)"
   ]
  },
  {
   "cell_type": "code",
   "execution_count": 3,
   "metadata": {},
   "outputs": [],
   "source": [
    "import pickle\n",
    "from utils.io import load_json\n",
    "\n",
    "name = \"LGBM\"\n",
    "\n",
    "flip_list_fname = f\"{DATASET_NAME}_{MODEL_NAME}_{name}\"\n",
    "flip_list = load_json(f\"{flip_list_fname}.json\")\n",
    "\n",
    "true_flip_list = [ l['minimum_subset'] for l in flip_list]\n",
    "\n",
    "# go through the json and parse \n",
    "with open(f\"{flip_list_fname}.pickle\", 'wb') as handle:\n",
    "    pickle.dump(true_flip_list, handle)"
   ]
  },
  {
   "cell_type": "code",
   "execution_count": 3,
   "metadata": {},
   "outputs": [],
   "source": [
    "import pickle\n",
    "from utils.io import load_json\n",
    "\n",
    "name = \"LGBM\"\n",
    "\n",
    "flip_list_fname = f\"{DATASET_NAME}_{MODEL_NAME}_{name}_finegrained\"\n",
    "flip_list = load_json(f\"{flip_list_fname}.json\")\n",
    "\n",
    "true_flip_list = [ l['minimum_subset'] for l in flip_list]\n",
    "\n",
    "# go through the json and parse \n",
    "with open(f\"{flip_list_fname}.pickle\", 'wb') as handle:\n",
    "    pickle.dump(true_flip_list, handle)"
   ]
  },
  {
   "cell_type": "code",
   "execution_count": 7,
   "metadata": {},
   "outputs": [],
   "source": [
    "import pickle\n",
    "from utils.io import load_json\n",
    "\n",
    "name = \"LMeans\"\n",
    "\n",
    "flip_list_fname = f\"{DATASET_NAME}_{MODEL_NAME}_{name}\"\n",
    "flip_list = load_json(f\"{flip_list_fname}.json\")\n",
    "\n",
    "true_flip_list = [ l['minimum_subset'] for l in flip_list]\n",
    "\n",
    "# go through the json and parse \n",
    "with open(f\"{flip_list_fname}.pickle\", 'wb') as handle:\n",
    "    pickle.dump(true_flip_list, handle)"
   ]
  },
  {
   "cell_type": "code",
   "execution_count": null,
   "metadata": {},
   "outputs": [],
   "source": [
    "## Convert pickle of numpy arrays to \n",
    "\n",
    "from utils.io import load_pickle\n",
    "\n",
    "\n",
    "def convert_elements_to_list(input_list):\n",
    "    flip_list = []\n",
    "    # Iterate over the list of lists\n",
    "    for l in input_list:\n",
    "        if l is None:\n",
    "            flip_list.append(None)\n",
    "        else:\n",
    "            flip_list.append(l.tolist())\n",
    "    return flip_list\n",
    "\n",
    "name = \"yang_fast\"\n",
    "filename = f\"{DATASET_NAME}_{MODEL_NAME}_{name}.pickle\"\n",
    "flip_list = load_pickle(filename)\n",
    "\n",
    "# flip_list = convert_elements_to_list(flip_list)\n",
    "# with open(f'{filename}', 'wb') as handle:\n",
    "#     pickle.dump(flip_list, handle)\n",
    "\n",
    "name = \"yang_slow\"\n",
    "filename = f\"{DATASET_NAME}_{MODEL_NAME}_{name}.pickle\"\n",
    "flip_list = load_pickle(filename)\n",
    "\n",
    "# flip_list = convert_elements_to_list(flip_list)\n",
    "# with open(f'{filename}', 'wb') as handle:\n",
    "#     pickle.dump(flip_list, handle)"
   ]
  }
 ],
 "metadata": {
  "kernelspec": {
   "display_name": "wrapperbox",
   "language": "python",
   "name": "python3"
  },
  "language_info": {
   "codemirror_mode": {
    "name": "ipython",
    "version": 3
   },
   "file_extension": ".py",
   "mimetype": "text/x-python",
   "name": "python",
   "nbconvert_exporter": "python",
   "pygments_lexer": "ipython3",
   "version": "3.9.undefined"
  }
 },
 "nbformat": 4,
 "nbformat_minor": 2
}
