{
 "cells": [
  {
   "cell_type": "code",
   "execution_count": 2,
   "metadata": {},
   "outputs": [],
   "source": [
    "import json\n",
    "import pickle\n",
    "\n",
    "\n",
    "def json_to_pickle(json_file, pickle_file):\n",
    "    # Read the JSON file\n",
    "    with open(json_file, 'r') as f:\n",
    "        data = json.load(f)\n",
    "    \n",
    "    # Extract 'minimum_subset' lists\n",
    "    list_of_lists = [e['minimum_subset'] for e in data]\n",
    "    \n",
    "    # Save the list of lists as a pickle file\n",
    "    with open(pickle_file, 'wb') as f:\n",
    "        pickle.dump(list_of_lists, f)"
   ]
  },
  {
   "cell_type": "code",
   "execution_count": 6,
   "metadata": {},
   "outputs": [],
   "source": [
    "json_to_pickle(\n",
    "    json_file=\"KNN_New/0to940_toxigen_deberta_large_KNN_minimal_subsets.json\",\n",
    "    pickle_file=\"KNN_New/toxigen_deberta_large_KNN.pickle\"\n",
    ")"
   ]
  },
  {
   "cell_type": "code",
   "execution_count": 3,
   "metadata": {},
   "outputs": [],
   "source": [
    "json_to_pickle(\n",
    "    json_file=\"/home/samsoup/Work/WrapperBox/MinimalSubsetToFlipPredictions/results/esnli/esnli_deberta_large_KNN.json\",\n",
    "    pickle_file=\"KNN_ESNLI/esnli_deberta_large_KNN.pickle\"\n",
    ")"
   ]
  },
  {
   "cell_type": "code",
   "execution_count": 4,
   "metadata": {},
   "outputs": [],
   "source": [
    "json_to_pickle(\n",
    "    json_file=\"Toxigen/LMeans/0to940_toxigen_deberta_large_LMeans_minimal_subsets.json\",\n",
    "    pickle_file=\"Toxigen/LMeans/toxigen_deberta_large_LMeans.pickle\"\n",
    ")"
   ]
  }
 ],
 "metadata": {
  "kernelspec": {
   "display_name": "wrapperbox",
   "language": "python",
   "name": "python3"
  },
  "language_info": {
   "codemirror_mode": {
    "name": "ipython",
    "version": 3
   },
   "file_extension": ".py",
   "mimetype": "text/x-python",
   "name": "python",
   "nbconvert_exporter": "python",
   "pygments_lexer": "ipython3",
   "version": "3.9.undefined"
  }
 },
 "nbformat": 4,
 "nbformat_minor": 2
}
