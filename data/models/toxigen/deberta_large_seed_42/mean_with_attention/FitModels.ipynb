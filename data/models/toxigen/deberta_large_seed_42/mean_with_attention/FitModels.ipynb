{
 "cells": [
  {
   "cell_type": "code",
   "execution_count": 1,
   "metadata": {},
   "outputs": [],
   "source": [
    "%load_ext autoreload\n",
    "%autoreload 2\n",
    "\n",
    "from pprint import pprint\n",
    "from sklearn.metrics import classification_report\n",
    "from utils.inference import compute_metrics\n",
    "\n",
    "\n",
    "DATASET_NAME = \"toxigen\"\n",
    "LABEL_SPACE = [\"non-toxic\", \"toxic\"]\n",
    "MODEL_NAME = \"deberta_large\"\n",
    "SEED = 42\n",
    "POOLER = \"mean_with_attention\"\n",
    "LAYER = 24\n",
    "\n",
    "def evaluate(y_true, y_pred, is_multiclass: bool, prefix: str='test'):\n",
    "    # Print some metrics\n",
    "    testset_perfm = compute_metrics(\n",
    "        y_true=y_true, y_pred=y_pred, is_multiclass=is_multiclass, prefix=prefix\n",
    "    )\n",
    "    pprint(testset_perfm)\n",
    "    print(classification_report(y_true=y_true, y_pred=y_pred))\n"
   ]
  },
  {
   "cell_type": "code",
   "execution_count": 2,
   "metadata": {},
   "outputs": [
    {
     "name": "stdout",
     "output_type": "stream",
     "text": [
      "Token has not been saved to git credential helper. Pass `add_to_git_credential=True` if you want to set the git credential as well.\n",
      "Token is valid (permission: read).\n",
      "Your token has been saved to /home/samsoup/.cache/huggingface/token\n",
      "Login successful\n"
     ]
    },
    {
     "name": "stderr",
     "output_type": "stream",
     "text": [
      "/home/samsoup/anaconda3/envs/wrapperbox/lib/python3.9/site-packages/datasets/load.py:2516: FutureWarning: 'use_auth_token' was deprecated in favor of 'token' in version 2.14.0 and will be removed in 3.0.0.\n",
      "You can remove this warning by passing 'token=<use_auth_token>' instead.\n",
      "  warnings.warn(\n"
     ]
    }
   ],
   "source": [
    "## Load Embeddings\n",
    "from utils.io import (\n",
    "    load_dataset_from_hf,\n",
    "    load_labels_at_split,\n",
    "    load_embeddings,\n",
    ")\n",
    "import numpy as np\n",
    "train_embeddings = load_embeddings(\n",
    "    dataset=DATASET_NAME,\n",
    "    model=MODEL_NAME,\n",
    "    seed=SEED,\n",
    "    split=\"train\",\n",
    "    pooler=POOLER,\n",
    "    layer=LAYER\n",
    ")\n",
    "\n",
    "eval_embeddings = load_embeddings(\n",
    "    dataset=DATASET_NAME,\n",
    "    model=MODEL_NAME,\n",
    "    seed=SEED,\n",
    "    split=\"eval\",\n",
    "    pooler=POOLER,\n",
    "    layer=LAYER\n",
    ")\n",
    "\n",
    "test_embeddings = load_embeddings(\n",
    "    dataset=DATASET_NAME,\n",
    "    model=MODEL_NAME,\n",
    "    seed=SEED,\n",
    "    split=\"test\",\n",
    "    pooler=POOLER,\n",
    "    layer=LAYER\n",
    ")\n",
    "\n",
    "train_eval_embeddings = np.vstack([train_embeddings, eval_embeddings])\n",
    "\n",
    "## Load Datasets and Labels\n",
    "dataset = load_dataset_from_hf(dataset=DATASET_NAME)\n",
    "train_labels = load_labels_at_split(dataset, \"train\")\n",
    "eval_labels = load_labels_at_split(dataset, \"eval\")\n",
    "train_eval_labels = np.concatenate([train_labels, eval_labels])\n",
    "test_labels = load_labels_at_split(dataset, \"test\")\n",
    "\n",
    "from datasets import DatasetDict, concatenate_datasets\n",
    "train_eval_dataset = concatenate_datasets([dataset[\"train\"], dataset[\"eval\"]])\n",
    "dataset_dict = DatasetDict(\n",
    "    {\"train\": train_eval_dataset, \"test\": dataset[\"test\"]}\n",
    ")"
   ]
  },
  {
   "cell_type": "code",
   "execution_count": 3,
   "metadata": {},
   "outputs": [
    {
     "name": "stdout",
     "output_type": "stream",
     "text": [
      "{'test_accuracy': 0.825531914893617,\n",
      " 'test_f1': 0.6893939393939394,\n",
      " 'test_precision': 0.7459016393442623,\n",
      " 'test_recall': 0.6408450704225352}\n",
      "              precision    recall  f1-score   support\n",
      "\n",
      "           0       0.85      0.91      0.88       656\n",
      "           1       0.75      0.64      0.69       284\n",
      "\n",
      "    accuracy                           0.83       940\n",
      "   macro avg       0.80      0.77      0.78       940\n",
      "weighted avg       0.82      0.83      0.82       940\n",
      "\n",
      "Model saved to LogisticRegression.pkl\n"
     ]
    }
   ],
   "source": [
    "import pickle\n",
    "from sklearn.linear_model import LogisticRegression\n",
    "\n",
    "\n",
    "l2 = 1\n",
    "logit_clf = LogisticRegression(penalty=\"l2\", C= 1 / l2)\n",
    "logit_clf.fit(train_eval_embeddings, train_eval_labels)\n",
    "predictions = logit_clf.predict(test_embeddings)\n",
    "\n",
    "\n",
    "evaluate(\n",
    "    y_pred=predictions, \n",
    "    y_true=test_labels, \n",
    "    is_multiclass=np.unique(test_labels).size > 2\n",
    ")\n",
    "\n",
    "# Path to save the model\n",
    "model_path = 'LogisticRegression.pkl'\n",
    "\n",
    "# Save the trained model to a .pkl file\n",
    "with open(model_path, 'wb') as file:\n",
    "    pickle.dump(logit_clf, file)\n",
    "\n",
    "print(f\"Model saved to {model_path}\")"
   ]
  },
  {
   "cell_type": "code",
   "execution_count": 4,
   "metadata": {},
   "outputs": [
    {
     "name": "stdout",
     "output_type": "stream",
     "text": [
      "{'test_accuracy': 0.48829787234042554,\n",
      " 'test_f1': 0.36959370904325034,\n",
      " 'test_precision': 0.29436325678496866,\n",
      " 'test_recall': 0.4964788732394366}\n",
      "              precision    recall  f1-score   support\n",
      "\n",
      "           0       0.69      0.48      0.57       656\n",
      "           1       0.29      0.50      0.37       284\n",
      "\n",
      "    accuracy                           0.49       940\n",
      "   macro avg       0.49      0.49      0.47       940\n",
      "weighted avg       0.57      0.49      0.51       940\n",
      "\n"
     ]
    }
   ],
   "source": [
    "from classifiers.RandomClassifier import RandomClassifier\n",
    "\n",
    "\n",
    "random_clf = RandomClassifier()\n",
    "random_clf.fit(train_eval_embeddings, train_eval_labels)\n",
    "predictions = random_clf.predict(test_embeddings)\n",
    "\n",
    "evaluate(\n",
    "    y_pred=predictions, \n",
    "    y_true=test_labels, \n",
    "    is_multiclass=np.unique(test_labels).size > 2\n",
    ")"
   ]
  },
  {
   "cell_type": "code",
   "execution_count": 5,
   "metadata": {},
   "outputs": [
    {
     "name": "stdout",
     "output_type": "stream",
     "text": [
      "[LightGBM] [Info] Number of positive: 2178, number of negative: 6782\n",
      "[LightGBM] [Info] Auto-choosing col-wise multi-threading, the overhead of testing was 0.088054 seconds.\n",
      "You can set `force_col_wise=true` to remove the overhead.\n",
      "[LightGBM] [Info] Total Bins 261120\n",
      "[LightGBM] [Info] Number of data points in the train set: 8960, number of used features: 1024\n",
      "[LightGBM] [Info] [binary:BoostFromScore]: pavg=0.243080 -> initscore=-1.135865\n",
      "[LightGBM] [Info] Start training from score -1.135865\n",
      "{'test_accuracy': 0.8202127659574469,\n",
      " 'test_f1': 0.6817325800376648,\n",
      " 'test_precision': 0.7327935222672065,\n",
      " 'test_recall': 0.6373239436619719}\n",
      "              precision    recall  f1-score   support\n",
      "\n",
      "           0       0.85      0.90      0.87       656\n",
      "           1       0.73      0.64      0.68       284\n",
      "\n",
      "    accuracy                           0.82       940\n",
      "   macro avg       0.79      0.77      0.78       940\n",
      "weighted avg       0.82      0.82      0.82       940\n",
      "\n"
     ]
    }
   ],
   "source": [
    "from lightgbm import LGBMModel\n",
    "\n",
    "num_labels = np.unique(test_labels).size\n",
    "objective='binary' if num_labels == 2 else 'multiclass'\n",
    "clf = LGBMModel(\n",
    "    objective=objective,\n",
    "    num_classes=1 if objective==\"binary\" else num_labels,\n",
    "    learning_rate=1.0,      # Set to 1.0 for a single tree\n",
    "    n_estimators=1,         # Build only one tree\n",
    "    min_child_samples=20,   # minimum samples in leaf \n",
    "    n_jobs= -1,\n",
    "    random_state=42\n",
    ")\n",
    "clf.fit(train_eval_embeddings, train_eval_labels)\n",
    "\n",
    "prediction_probas = clf.predict(test_embeddings)\n",
    "if objective == \"binary\":\n",
    "    predictions = (prediction_probas >= 0.5).astype(int) # threshold using 0.5\n",
    "else:\n",
    "    predictions = np.argmax(prediction_probas, axis=1)\n",
    "\n",
    "from pprint import pprint\n",
    "from sklearn.metrics import classification_report\n",
    "from utils.inference import compute_metrics\n",
    "\n",
    "# Print some metrics\n",
    "testset_perfm = compute_metrics(\n",
    "    y_true=test_labels, y_pred=predictions, is_multiclass=objective==\"multiclass\", prefix=\"test\"\n",
    ")\n",
    "pprint(testset_perfm)\n",
    "print(classification_report(y_true=test_labels, y_pred=predictions))\n",
    "\n",
    "# import pickle\n",
    "# # Save model to file\n",
    "# model_filename = 'DecisionTree.pkl'\n",
    "# with open(model_filename, 'wb') as f:\n",
    "#     pickle.dump(clf, f)\n"
   ]
  },
  {
   "cell_type": "code",
   "execution_count": 6,
   "metadata": {},
   "outputs": [
    {
     "name": "stdout",
     "output_type": "stream",
     "text": [
      "{'test_accuracy': 0.5053191489361702,\n",
      " 'test_f1': 0.3808255659121172,\n",
      " 'test_precision': 0.30620985010706636,\n",
      " 'test_recall': 0.5035211267605634}\n",
      "              precision    recall  f1-score   support\n",
      "\n",
      "           0       0.70      0.51      0.59       656\n",
      "           1       0.31      0.50      0.38       284\n",
      "\n",
      "    accuracy                           0.51       940\n",
      "   macro avg       0.50      0.50      0.48       940\n",
      "weighted avg       0.58      0.51      0.53       940\n",
      "\n"
     ]
    }
   ],
   "source": [
    "from classifiers.KMeansClassifier import KMeansClassifier\n",
    "\n",
    "\n",
    "clf = KMeansClassifier(algorithm='elkan', init='k-means++', n_clusters=2,random_state=42)\n",
    "clf.fit(train_eval_embeddings, train_eval_labels)\n",
    "predictions = clf.predict(test_embeddings)\n",
    "\n",
    "evaluate(\n",
    "    y_pred=predictions, \n",
    "    y_true=test_labels, \n",
    "    is_multiclass=np.unique(test_labels).size > 2\n",
    ")\n",
    "\n",
    "import pickle\n",
    "# Save model to file\n",
    "model_filename = 'LMeans.pkl'\n",
    "with open(model_filename, 'wb') as f:\n",
    "    pickle.dump(clf, f)"
   ]
  }
 ],
 "metadata": {
  "kernelspec": {
   "display_name": "wrapperbox",
   "language": "python",
   "name": "python3"
  },
  "language_info": {
   "codemirror_mode": {
    "name": "ipython",
    "version": 3
   },
   "file_extension": ".py",
   "mimetype": "text/x-python",
   "name": "python",
   "nbconvert_exporter": "python",
   "pygments_lexer": "ipython3",
   "version": "3.9.18"
  }
 },
 "nbformat": 4,
 "nbformat_minor": 2
}
