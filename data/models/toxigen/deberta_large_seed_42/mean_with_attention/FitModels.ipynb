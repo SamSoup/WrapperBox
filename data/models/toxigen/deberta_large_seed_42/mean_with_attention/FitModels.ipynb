{
 "cells": [
  {
   "cell_type": "code",
   "execution_count": 1,
   "metadata": {},
   "outputs": [],
   "source": [
    "%load_ext autoreload\n",
    "%autoreload 2\n",
    "\n",
    "from pprint import pprint\n",
    "from sklearn.metrics import classification_report\n",
    "from utils.inference import compute_metrics\n",
    "\n",
    "\n",
    "DATASET_NAME = \"toxigen\"\n",
    "LABEL_SPACE = [\"non-toxic\", \"toxic\"]\n",
    "MODEL_NAME = \"deberta_large\"\n",
    "SEED = 42\n",
    "POOLER = \"mean_with_attention\"\n",
    "LAYER = 24\n",
    "\n",
    "def evaluate(y_true, y_pred, is_multiclass: bool, prefix: str='test'):\n",
    "    # Print some metrics\n",
    "    testset_perfm = compute_metrics(\n",
    "        y_true=y_true, y_pred=y_pred, is_multiclass=is_multiclass, prefix=prefix\n",
    "    )\n",
    "    pprint(testset_perfm)\n",
    "    print(classification_report(y_true=y_true, y_pred=y_pred))\n"
   ]
  },
  {
   "cell_type": "code",
   "execution_count": 2,
   "metadata": {},
   "outputs": [
    {
     "name": "stdout",
     "output_type": "stream",
     "text": [
      "Token has not been saved to git credential helper. Pass `add_to_git_credential=True` if you want to set the git credential as well.\n",
      "Token is valid (permission: read).\n",
      "Your token has been saved to /home/samsoup/.cache/huggingface/token\n",
      "Login successful\n"
     ]
    },
    {
     "name": "stderr",
     "output_type": "stream",
     "text": [
      "/home/samsoup/anaconda3/envs/wrapperbox/lib/python3.9/site-packages/datasets/load.py:2516: FutureWarning: 'use_auth_token' was deprecated in favor of 'token' in version 2.14.0 and will be removed in 3.0.0.\n",
      "You can remove this warning by passing 'token=<use_auth_token>' instead.\n",
      "  warnings.warn(\n"
     ]
    }
   ],
   "source": [
    "## Load Embeddings\n",
    "from utils.io import (\n",
    "    load_dataset_from_hf,\n",
    "    load_labels_at_split,\n",
    "    load_embeddings,\n",
    ")\n",
    "import numpy as np\n",
    "train_embeddings = load_embeddings(\n",
    "    dataset=DATASET_NAME,\n",
    "    model=MODEL_NAME,\n",
    "    seed=SEED,\n",
    "    split=\"train\",\n",
    "    pooler=POOLER,\n",
    "    layer=LAYER\n",
    ")\n",
    "\n",
    "eval_embeddings = load_embeddings(\n",
    "    dataset=DATASET_NAME,\n",
    "    model=MODEL_NAME,\n",
    "    seed=SEED,\n",
    "    split=\"eval\",\n",
    "    pooler=POOLER,\n",
    "    layer=LAYER\n",
    ")\n",
    "\n",
    "test_embeddings = load_embeddings(\n",
    "    dataset=DATASET_NAME,\n",
    "    model=MODEL_NAME,\n",
    "    seed=SEED,\n",
    "    split=\"test\",\n",
    "    pooler=POOLER,\n",
    "    layer=LAYER\n",
    ")\n",
    "\n",
    "train_eval_embeddings = np.vstack([train_embeddings, eval_embeddings])\n",
    "\n",
    "## Load Datasets and Labels\n",
    "dataset = load_dataset_from_hf(dataset=DATASET_NAME)\n",
    "train_labels = load_labels_at_split(dataset, \"train\")\n",
    "eval_labels = load_labels_at_split(dataset, \"eval\")\n",
    "train_eval_labels = np.concatenate([train_labels, eval_labels])\n",
    "test_labels = load_labels_at_split(dataset, \"test\")\n",
    "\n",
    "from datasets import DatasetDict, concatenate_datasets\n",
    "train_eval_dataset = concatenate_datasets([dataset[\"train\"], dataset[\"eval\"]])\n",
    "dataset_dict = DatasetDict(\n",
    "    {\"train\": train_eval_dataset, \"test\": dataset[\"test\"]}\n",
    ")"
   ]
  },
  {
   "cell_type": "code",
   "execution_count": 3,
   "metadata": {},
   "outputs": [
    {
     "name": "stdout",
     "output_type": "stream",
     "text": [
      "{'test_accuracy': 0.8202127659574469,\n",
      " 'test_f1': 0.6817325800376648,\n",
      " 'test_precision': 0.7327935222672065,\n",
      " 'test_recall': 0.6373239436619719}\n",
      "              precision    recall  f1-score   support\n",
      "\n",
      "           0       0.85      0.90      0.87       656\n",
      "           1       0.73      0.64      0.68       284\n",
      "\n",
      "    accuracy                           0.82       940\n",
      "   macro avg       0.79      0.77      0.78       940\n",
      "weighted avg       0.82      0.82      0.82       940\n",
      "\n",
      "Model saved to LogisticRegression.pkl\n"
     ]
    }
   ],
   "source": [
    "import pickle\n",
    "from sklearn.linear_model import LogisticRegression\n",
    "\n",
    "\n",
    "l2 = 500\n",
    "logit_clf = LogisticRegression(penalty=\"l2\", C= 1 / l2)\n",
    "logit_clf.fit(train_eval_embeddings, train_eval_labels)\n",
    "predictions = logit_clf.predict(test_embeddings)\n",
    "\n",
    "\n",
    "evaluate(\n",
    "    y_pred=predictions, \n",
    "    y_true=test_labels, \n",
    "    is_multiclass=np.unique(test_labels).size > 2\n",
    ")\n",
    "\n",
    "# Path to save the model\n",
    "model_path = 'LogisticRegression.pkl'\n",
    "\n",
    "# Save the trained model to a .pkl file\n",
    "with open(model_path, 'wb') as file:\n",
    "    pickle.dump(logit_clf, file)\n",
    "\n",
    "print(f\"Model saved to {model_path}\")"
   ]
  },
  {
   "cell_type": "code",
   "execution_count": 3,
   "metadata": {},
   "outputs": [
    {
     "name": "stdout",
     "output_type": "stream",
     "text": [
      "{'test_0_f1': 0.34888922021768304,\n",
      " 'test_0_precision': 0.3504043126684636,\n",
      " 'test_0_recall': 0.3473871733966746,\n",
      " 'test_1_f1': 0.3348751156336725,\n",
      " 'test_1_precision': 0.33241505968778695,\n",
      " 'test_1_recall': 0.33737185461323393,\n",
      " 'test_2_f1': 0.32285050348567,\n",
      " 'test_2_precision': 0.3238036047234307,\n",
      " 'test_2_recall': 0.3219029966017918,\n",
      " 'test_accuracy': 0.3357084690553746,\n",
      " 'test_f1': 0.3355382797790085,\n",
      " 'test_macro_f1': 0.3355382797790085,\n",
      " 'test_macro_precision': 0.33554099235989376,\n",
      " 'test_macro_recall': 0.3355540082039001,\n",
      " 'test_micro_f1': 0.3357084690553746,\n",
      " 'test_micro_precision': 0.3357084690553746,\n",
      " 'test_micro_recall': 0.3357084690553746,\n",
      " 'test_precision': 0.33554099235989376,\n",
      " 'test_recall': 0.3355540082039001,\n",
      " 'test_weighted_f1': 0.3357175255192449,\n",
      " 'test_weighted_precision': 0.3357449176193115,\n",
      " 'test_weighted_recall': 0.3357084690553746}\n",
      "              precision    recall  f1-score   support\n",
      "\n",
      "           0       0.35      0.35      0.35      3368\n",
      "           1       0.33      0.34      0.33      3219\n",
      "           2       0.32      0.32      0.32      3237\n",
      "\n",
      "    accuracy                           0.34      9824\n",
      "   macro avg       0.34      0.34      0.34      9824\n",
      "weighted avg       0.34      0.34      0.34      9824\n",
      "\n"
     ]
    }
   ],
   "source": [
    "from classifiers.RandomClassifier import RandomClassifier\n",
    "\n",
    "\n",
    "random_clf = RandomClassifier()\n",
    "random_clf.fit(train_eval_embeddings, train_eval_labels)\n",
    "predictions = random_clf.predict(test_embeddings)\n",
    "\n",
    "evaluate(\n",
    "    y_pred=predictions, \n",
    "    y_true=test_labels, \n",
    "    is_multiclass=np.unique(test_labels).size > 2\n",
    ")"
   ]
  }
 ],
 "metadata": {
  "kernelspec": {
   "display_name": "wrapperbox",
   "language": "python",
   "name": "python3"
  },
  "language_info": {
   "codemirror_mode": {
    "name": "ipython",
    "version": 3
   },
   "file_extension": ".py",
   "mimetype": "text/x-python",
   "name": "python",
   "nbconvert_exporter": "python",
   "pygments_lexer": "ipython3",
   "version": "3.9.18"
  }
 },
 "nbformat": 4,
 "nbformat_minor": 2
}
